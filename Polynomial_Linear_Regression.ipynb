{
  "nbformat": 4,
  "nbformat_minor": 0,
  "metadata": {
    "colab": {
      "name": "Polynomial_Linear_Regression.ipynb",
      "provenance": [],
      "toc_visible": true,
      "authorship_tag": "ABX9TyPRGzNvJ8qxZcb+QgAnCKCb",
      "include_colab_link": true
    },
    "kernelspec": {
      "name": "python3",
      "display_name": "Python 3"
    }
  },
  "cells": [
    {
      "cell_type": "markdown",
      "metadata": {
        "id": "view-in-github",
        "colab_type": "text"
      },
      "source": [
        "<a href=\"https://colab.research.google.com/github/vinodhmano/machinelearning/blob/master/Polynomial_Linear_Regression.ipynb\" target=\"_parent\"><img src=\"https://colab.research.google.com/assets/colab-badge.svg\" alt=\"Open In Colab\"/></a>"
      ]
    },
    {
      "cell_type": "markdown",
      "metadata": {
        "id": "TUtP8yXIn5sB"
      },
      "source": [
        "# Import Libraries"
      ]
    },
    {
      "cell_type": "code",
      "metadata": {
        "id": "J7s95pSpn_X_"
      },
      "source": [
        "import pandas as pd\n",
        "import numpy as np\n",
        "import matplotlib.pyplot as plt"
      ],
      "execution_count": 1,
      "outputs": []
    },
    {
      "cell_type": "markdown",
      "metadata": {
        "id": "U--TVHcaoJZV"
      },
      "source": [
        "# Import dataset"
      ]
    },
    {
      "cell_type": "code",
      "metadata": {
        "id": "GPbwJQzhoLhm"
      },
      "source": [
        "dataset = pd.read_csv('./Position_Salaries.csv')\n",
        "X = dataset.iloc[:, 1:-1].values\n",
        "y = dataset.iloc[:, -1].values"
      ],
      "execution_count": 2,
      "outputs": []
    },
    {
      "cell_type": "markdown",
      "metadata": {
        "id": "gJba3xQhparc"
      },
      "source": [
        "# Train Linear Regression Model"
      ]
    },
    {
      "cell_type": "code",
      "metadata": {
        "id": "e_7xiH6FpNmM",
        "outputId": "80cbaed6-b3ba-44db-a8ae-20ae48005d30",
        "colab": {
          "base_uri": "https://localhost:8080/"
        }
      },
      "source": [
        "from sklearn.linear_model import LinearRegression\n",
        "linear_regressor = LinearRegression()\n",
        "linear_regressor.fit(X, y)"
      ],
      "execution_count": 5,
      "outputs": [
        {
          "output_type": "execute_result",
          "data": {
            "text/plain": [
              "LinearRegression(copy_X=True, fit_intercept=True, n_jobs=None, normalize=False)"
            ]
          },
          "metadata": {
            "tags": []
          },
          "execution_count": 5
        }
      ]
    },
    {
      "cell_type": "markdown",
      "metadata": {
        "id": "wFpQmXjRpzgA"
      },
      "source": [
        "# Train Polynomial Regression Model"
      ]
    },
    {
      "cell_type": "code",
      "metadata": {
        "id": "SZvZ8dg4p4f8",
        "outputId": "267542ca-2504-42d1-a589-25de9f48c72f",
        "colab": {
          "base_uri": "https://localhost:8080/"
        }
      },
      "source": [
        "from sklearn.preprocessing import PolynomialFeatures\n",
        "pf = PolynomialFeatures(degree=2)\n",
        "poly_X = pf.fit_transform(X)\n",
        "poly_regressor = LinearRegression()\n",
        "poly_regressor.fit(poly_X, y)"
      ],
      "execution_count": 14,
      "outputs": [
        {
          "output_type": "execute_result",
          "data": {
            "text/plain": [
              "LinearRegression(copy_X=True, fit_intercept=True, n_jobs=None, normalize=False)"
            ]
          },
          "metadata": {
            "tags": []
          },
          "execution_count": 14
        }
      ]
    },
    {
      "cell_type": "markdown",
      "metadata": {
        "id": "MTkIYD4_sUuU"
      },
      "source": [
        "# Plot the results of Linear Regression Model prediction"
      ]
    },
    {
      "cell_type": "code",
      "metadata": {
        "id": "XR_CsN_hqmXM",
        "outputId": "56fc32f2-afb9-41bb-c42d-84de281768bb",
        "colab": {
          "base_uri": "https://localhost:8080/",
          "height": 295
        }
      },
      "source": [
        "plt.scatter(X, y, color='blue')\n",
        "plt.plot(X, linear_regressor.predict(X), color='red')\n",
        "plt.xlabel('Level')\n",
        "plt.ylabel('Salary')\n",
        "plt.title('Linear Regression Model prediction')\n",
        "plt.show()"
      ],
      "execution_count": 10,
      "outputs": [
        {
          "output_type": "display_data",
          "data": {
            "image/png": "[encoded data removed]",
            "text/plain": [
              "<Figure size 432x288 with 1 Axes>"
            ]
          },
          "metadata": {
            "tags": [],
            "needs_background": "light"
          }
        }
      ]
    },
    {
      "cell_type": "markdown",
      "metadata": {
        "id": "hbrLFLuWtALT"
      },
      "source": [
        "# Plot the results of Polynomial Linear Regression Model prediction"
      ]
    },
    {
      "cell_type": "code",
      "metadata": {
        "id": "QImrm1aztFnp",
        "outputId": "608b7429-928b-441d-d943-2f4422e1bde0",
        "colab": {
          "base_uri": "https://localhost:8080/",
          "height": 295
        }
      },
      "source": [
        "plt.scatter(X, y, color='blue')\n",
        "plt.plot(X, poly_regressor.predict(poly_X), color='red')\n",
        "plt.xlabel('Level')\n",
        "plt.ylabel('Salary')\n",
        "plt.title('Polynomial Linear Regression Model prediction')\n",
        "plt.show()"
      ],
      "execution_count": 15,
      "outputs": [
        {
          "output_type": "display_data",
          "data": {
            "image/png": "[encoded data removed]",
            "text/plain": [
              "<Figure size 432x288 with 1 Axes>"
            ]
          },
          "metadata": {
            "tags": [],
            "needs_background": "light"
          }
        }
      ]
    },
    {
      "cell_type": "markdown",
      "metadata": {
        "id": "2YVLs8Fxu15j"
      },
      "source": [
        "# Predict single value from Linear Regression Mode"
      ]
    },
    {
      "cell_type": "code",
      "metadata": {
        "id": "IeoTh3Bmu6Qv",
        "outputId": "5046ebfd-6259-4fea-b594-5a11c8622551",
        "colab": {
          "base_uri": "https://localhost:8080/"
        }
      },
      "source": [
        "print(linear_regressor.predict([[6.5]]))"
      ],
      "execution_count": 21,
      "outputs": [
        {
          "output_type": "stream",
          "text": [
            "[330378.78787879]\n"
          ],
          "name": "stdout"
        }
      ]
    },
    {
      "cell_type": "markdown",
      "metadata": {
        "id": "0uwqMNi3v7Na"
      },
      "source": [
        "# Predict single value from Linear Regression Mode"
      ]
    },
    {
      "cell_type": "code",
      "metadata": {
        "id": "A60nXayYv8lG",
        "outputId": "de6f74d5-de0c-4bd3-dc4d-171f8e0f74f0",
        "colab": {
          "base_uri": "https://localhost:8080/"
        }
      },
      "source": [
        "print(poly_regressor.predict([[1, 6.5, 42.25]]))"
      ],
      "execution_count": 22,
      "outputs": [
        {
          "output_type": "stream",
          "text": [
            "[189498.10606061]\n"
          ],
          "name": "stdout"
        }
      ]
    },
    {
      "cell_type": "code",
      "metadata": {
        "id": "Pz6IhxdvxBgC",
        "outputId": "dc52074e-6f2b-4e29-e1ad-338e4f20f2dd",
        "colab": {
          "base_uri": "https://localhost:8080/"
        }
      },
      "source": [
        "print(poly_regressor.predict(pf.fit_transform([[6.5]])))"
      ],
      "execution_count": 23,
      "outputs": [
        {
          "output_type": "stream",
          "text": [
            "[189498.10606061]\n"
          ],
          "name": "stdout"
        }
      ]
    }
  ]
}