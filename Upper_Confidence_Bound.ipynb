{
  "nbformat": 4,
  "nbformat_minor": 0,
  "metadata": {
    "colab": {
      "name": "Upper_Confidence_Bound.ipynb",
      "provenance": [],
      "authorship_tag": "ABX9TyOF0LJC+2ttWsoNtUm0qDRo",
      "include_colab_link": true
    },
    "kernelspec": {
      "name": "python3",
      "display_name": "Python 3"
    }
  },
  "cells": [
    {
      "cell_type": "markdown",
      "metadata": {
        "id": "view-in-github",
        "colab_type": "text"
      },
      "source": [
        "<a href=\"https://colab.research.google.com/github/vinodhmano/machinelearning/blob/master/Upper_Confidence_Bound.ipynb\" target=\"_parent\"><img src=\"https://colab.research.google.com/assets/colab-badge.svg\" alt=\"Open In Colab\"/></a>"
      ]
    },
    {
      "cell_type": "code",
      "metadata": {
        "id": "8X1WFd4iYUaN"
      },
      "source": [
        "import pandas as pd\n",
        "import numpy as np\n",
        "import matplotlib.pyplot as plt"
      ],
      "execution_count": 3,
      "outputs": []
    },
    {
      "cell_type": "code",
      "metadata": {
        "id": "jefjqI_BYcjD"
      },
      "source": [
        "dataset = pd.read_csv('Ads_CTR_Optimisation.csv')"
      ],
      "execution_count": 4,
      "outputs": []
    },
    {
      "cell_type": "code",
      "metadata": {
        "id": "auvYpAkCYmFF"
      },
      "source": [
        "import math\n",
        "number_of_rounds = 10000\n",
        "number_of_ads = 10\n",
        "number_of_time_selected = [0] * number_of_ads\n",
        "sum_of_rewards = [0] * number_of_ads\n",
        "total_rewards = 0\n",
        "selected_ads = []\n",
        "\n",
        "for n in range(0, number_of_rounds):\n",
        "  ad = 0\n",
        "  max_upper_bound = 0\n",
        "  for i in range(0, number_of_ads):\n",
        "    if (number_of_time_selected[i] > 0):\n",
        "      average_reward = sum_of_rewards[i] / number_of_time_selected[i]\n",
        "      confidence_delta = math.sqrt(3/2 * math.log(n+1) / number_of_time_selected[i])\n",
        "      upper_bound = average_reward + confidence_delta\n",
        "    else:\n",
        "      upper_bound = 1e400\n",
        "    if (upper_bound > max_upper_bound):\n",
        "      max_upper_bound = upper_bound\n",
        "      ad = i\n",
        "  selected_ads.append(ad)\n",
        "  reward = dataset.iloc[n, ad]\n",
        "  number_of_time_selected[ad] += 1\n",
        "  sum_of_rewards[ad] += reward\n",
        "  total_rewards += reward"
      ],
      "execution_count": 8,
      "outputs": []
    },
    {
      "cell_type": "code",
      "metadata": {
        "colab": {
          "base_uri": "https://localhost:8080/",
          "height": 295
        },
        "id": "OwDXJhnRb_DS",
        "outputId": "aedfea67-8494-47d4-adb0-68d8832403d5"
      },
      "source": [
        "plt.hist(selected_ads)\n",
        "plt.title('Histogram')\n",
        "plt.xlabel('ad')\n",
        "plt.ylabel('distribution')\n",
        "plt.show()"
      ],
      "execution_count": 10,
      "outputs": [
        {
          "output_type": "display_data",
          "data": {
            "image/png": "[encoded data removed]",
            "text/plain": [
              "<Figure size 432x288 with 1 Axes>"
            ]
          },
          "metadata": {
            "tags": [],
            "needs_background": "light"
          }
        }
      ]
    }
  ]
}