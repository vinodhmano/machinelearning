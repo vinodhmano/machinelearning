{
  "nbformat": 4,
  "nbformat_minor": 0,
  "metadata": {
    "colab": {
      "name": "Cancer_Prediction_Logistic_Regression.ipynb",
      "provenance": [],
      "authorship_tag": "ABX9TyP3knxIrOqcCnOQeZsIiqwm",
      "include_colab_link": true
    },
    "kernelspec": {
      "name": "python3",
      "display_name": "Python 3"
    }
  },
  "cells": [
    {
      "cell_type": "markdown",
      "metadata": {
        "id": "view-in-github",
        "colab_type": "text"
      },
      "source": [
        "<a href=\"https://colab.research.google.com/github/vinodhmano/machinelearning/blob/master/Cancer_Prediction_Logistic_Regression.ipynb\" target=\"_parent\"><img src=\"https://colab.research.google.com/assets/colab-badge.svg\" alt=\"Open In Colab\"/></a>"
      ]
    },
    {
      "cell_type": "markdown",
      "metadata": {
        "id": "lpPeKGDM4Ek1"
      },
      "source": [
        "# Import the libraries"
      ]
    },
    {
      "cell_type": "code",
      "metadata": {
        "id": "0MTfG3ZM2XMZ"
      },
      "source": [
        "import pandas as pd\n",
        "import numpy as np"
      ],
      "execution_count": 1,
      "outputs": []
    },
    {
      "cell_type": "markdown",
      "metadata": {
        "id": "fhvvHnZc4Enz"
      },
      "source": [
        "# Import dataset"
      ]
    },
    {
      "cell_type": "code",
      "metadata": {
        "id": "-wfcoXn44hrY"
      },
      "source": [
        "dataset = pd.read_csv('Breast_cancer_data.csv')\n",
        "X = dataset.iloc[:, :-1].values\n",
        "y = dataset.iloc[:, -1].values"
      ],
      "execution_count": 4,
      "outputs": []
    },
    {
      "cell_type": "code",
      "metadata": {
        "colab": {
          "base_uri": "https://localhost:8080/"
        },
        "id": "EODkGPGf4_1R",
        "outputId": "1e107573-b875-44f0-b97c-c0b0112f6ce5"
      },
      "source": [
        "print(X[:10])"
      ],
      "execution_count": 7,
      "outputs": [
        {
          "output_type": "stream",
          "text": [
            "[[1.799e+01 1.038e+01 1.228e+02 1.001e+03 1.184e-01]\n",
            " [2.057e+01 1.777e+01 1.329e+02 1.326e+03 8.474e-02]\n",
            " [1.969e+01 2.125e+01 1.300e+02 1.203e+03 1.096e-01]\n",
            " [1.142e+01 2.038e+01 7.758e+01 3.861e+02 1.425e-01]\n",
            " [2.029e+01 1.434e+01 1.351e+02 1.297e+03 1.003e-01]\n",
            " [1.245e+01 1.570e+01 8.257e+01 4.771e+02 1.278e-01]\n",
            " [1.825e+01 1.998e+01 1.196e+02 1.040e+03 9.463e-02]\n",
            " [1.371e+01 2.083e+01 9.020e+01 5.779e+02 1.189e-01]\n",
            " [1.300e+01 2.182e+01 8.750e+01 5.198e+02 1.273e-01]\n",
            " [1.246e+01 2.404e+01 8.397e+01 4.759e+02 1.186e-01]]\n"
          ],
          "name": "stdout"
        }
      ]
    },
    {
      "cell_type": "code",
      "metadata": {
        "colab": {
          "base_uri": "https://localhost:8080/"
        },
        "id": "WbMnO-ST4uiB",
        "outputId": "3db1e808-1318-48b3-ecf0-9e3f294e909f"
      },
      "source": [
        "print(y[:10])"
      ],
      "execution_count": 6,
      "outputs": [
        {
          "output_type": "stream",
          "text": [
            "[0 0 0 0 0 0 0 0 0 0]\n"
          ],
          "name": "stdout"
        }
      ]
    },
    {
      "cell_type": "markdown",
      "metadata": {
        "id": "MllFd2YJ4Erm"
      },
      "source": [
        "# Split Train and Test sets"
      ]
    },
    {
      "cell_type": "code",
      "metadata": {
        "id": "IHKxbyYg5DLn"
      },
      "source": [
        "from sklearn.model_selection import train_test_split\n",
        "X_train, X_test, y_train, y_test = train_test_split(X, y, test_size=0.2)"
      ],
      "execution_count": 8,
      "outputs": []
    },
    {
      "cell_type": "code",
      "metadata": {
        "colab": {
          "base_uri": "https://localhost:8080/"
        },
        "id": "p-WB6OnD5aZN",
        "outputId": "c187af9c-5018-48ac-cfb8-3ebb45fa014f"
      },
      "source": [
        "print(X_train[:10])"
      ],
      "execution_count": 9,
      "outputs": [
        {
          "output_type": "stream",
          "text": [
            "[[1.171e+01 1.545e+01 7.503e+01 4.203e+02 1.150e-01]\n",
            " [1.340e+01 1.695e+01 8.548e+01 5.524e+02 7.937e-02]\n",
            " [1.406e+01 1.718e+01 8.975e+01 6.091e+02 8.045e-02]\n",
            " [1.026e+01 1.471e+01 6.620e+01 3.216e+02 9.882e-02]\n",
            " [1.141e+01 1.492e+01 7.353e+01 4.020e+02 9.059e-02]\n",
            " [1.320e+01 1.743e+01 8.413e+01 5.416e+02 7.215e-02]\n",
            " [1.194e+01 1.824e+01 7.571e+01 4.376e+02 8.261e-02]\n",
            " [1.471e+01 2.159e+01 9.555e+01 6.569e+02 1.137e-01]\n",
            " [1.476e+01 1.474e+01 9.487e+01 6.687e+02 8.875e-02]\n",
            " [1.262e+01 1.715e+01 8.062e+01 4.929e+02 8.583e-02]]\n"
          ],
          "name": "stdout"
        }
      ]
    },
    {
      "cell_type": "code",
      "metadata": {
        "colab": {
          "base_uri": "https://localhost:8080/"
        },
        "id": "wX23oNty5chE",
        "outputId": "a48099c4-497f-4768-fbb5-4ed00a6035ae"
      },
      "source": [
        "print(X_test[:10])"
      ],
      "execution_count": 10,
      "outputs": [
        {
          "output_type": "stream",
          "text": [
            "[[1.614e+01 1.486e+01 1.043e+02 8.000e+02 9.495e-02]\n",
            " [2.092e+01 2.509e+01 1.430e+02 1.347e+03 1.099e-01]\n",
            " [1.277e+01 2.247e+01 8.172e+01 5.063e+02 9.055e-02]\n",
            " [1.419e+01 2.381e+01 9.287e+01 6.107e+02 9.463e-02]\n",
            " [1.315e+01 1.534e+01 8.531e+01 5.389e+02 9.384e-02]\n",
            " [1.317e+01 2.181e+01 8.542e+01 5.315e+02 9.714e-02]\n",
            " [1.314e+01 2.074e+01 8.598e+01 5.369e+02 8.675e-02]\n",
            " [1.578e+01 1.789e+01 1.036e+02 7.810e+02 9.710e-02]\n",
            " [1.499e+01 2.520e+01 9.554e+01 6.988e+02 9.387e-02]\n",
            " [1.221e+01 1.409e+01 7.878e+01 4.620e+02 8.108e-02]]\n"
          ],
          "name": "stdout"
        }
      ]
    },
    {
      "cell_type": "markdown",
      "metadata": {
        "id": "BBIJqFjj4Eu5"
      },
      "source": [
        "# Scale the features"
      ]
    },
    {
      "cell_type": "code",
      "metadata": {
        "id": "y1kHZauP5kse"
      },
      "source": [
        "from sklearn.preprocessing import StandardScaler\n",
        "scaler = StandardScaler()\n",
        "X_train = scaler.fit_transform(X_train)\n",
        "X_test = scaler.transform(X_test)"
      ],
      "execution_count": 12,
      "outputs": []
    },
    {
      "cell_type": "code",
      "metadata": {
        "colab": {
          "base_uri": "https://localhost:8080/"
        },
        "id": "3l8PYvO950az",
        "outputId": "911d3b51-25c5-494f-d62f-49b499f097d1"
      },
      "source": [
        "print(X_train[:10])"
      ],
      "execution_count": 13,
      "outputs": [
        {
          "output_type": "stream",
          "text": [
            "[[-0.67642347 -0.8865676  -0.68697997 -0.66399847  1.29763366]\n",
            " [-0.20093201 -0.53794956 -0.25924911 -0.28793395 -1.16541008]\n",
            " [-0.01523712 -0.48449479 -0.08447296 -0.12651943 -1.09075144]\n",
            " [-1.08438951 -1.0585525  -1.04840231 -0.94497931  0.17913667]\n",
            " [-0.76083024 -1.00974597 -0.74837674 -0.71609523 -0.3897898 ]\n",
            " [-0.25720319 -0.42639179 -0.31450621 -0.31867958 -1.66451689]\n",
            " [-0.61171161 -0.23813804 -0.65914676 -0.61474854 -0.94143417]\n",
            " [ 0.16764421  0.54044224  0.15292789  0.00955842  1.20776678]\n",
            " [ 0.181712   -1.05158013  0.12509469  0.04315086 -0.51698599]\n",
            " [-0.42038961 -0.49146715 -0.45817466 -0.45731956 -0.71884083]]\n"
          ],
          "name": "stdout"
        }
      ]
    },
    {
      "cell_type": "code",
      "metadata": {
        "colab": {
          "base_uri": "https://localhost:8080/"
        },
        "id": "EVboWum352c9",
        "outputId": "83163a1c-6d2c-4e29-e562-6d95868c2bbb"
      },
      "source": [
        "print(X_test[:10])"
      ],
      "execution_count": 14,
      "outputs": [
        {
          "output_type": "stream",
          "text": [
            "[[ 0.56998313 -1.02369069  0.51107574  0.41693793 -0.08839011]\n",
            " [ 1.9148643   1.35388433  2.09511249  1.97414682  0.94507898]\n",
            " [-0.37818622  0.74496482 -0.41315036 -0.41917221 -0.39255493]\n",
            " [ 0.02133914  1.05639694  0.04323232 -0.12196452 -0.11051119]\n",
            " [-0.27127098 -0.91213292 -0.26620741 -0.32636598 -0.1651226 ]\n",
            " [-0.26564387  0.59157289 -0.26170498 -0.34743243  0.06300101]\n",
            " [-0.27408454  0.34289202 -0.23878352 -0.33205961 -0.65524273]\n",
            " [ 0.46869501 -0.31948225  0.48242391  0.36284841  0.06023588]\n",
            " [ 0.24642386  1.37944965  0.15251858  0.12884005 -0.16304875]\n",
            " [-0.53574552 -1.20264795 -0.53348803 -0.54528621 -1.04720057]]\n"
          ],
          "name": "stdout"
        }
      ]
    },
    {
      "cell_type": "markdown",
      "metadata": {
        "id": "jY-zNiZq57p_"
      },
      "source": [
        "# Build the Logistic Regression Model"
      ]
    },
    {
      "cell_type": "code",
      "metadata": {
        "colab": {
          "base_uri": "https://localhost:8080/"
        },
        "id": "9aEHciDK5_hH",
        "outputId": "046216f7-59ed-446e-a515-75c7e88221aa"
      },
      "source": [
        "from sklearn.linear_model import LogisticRegression\n",
        "classifier = LogisticRegression(random_state=1)\n",
        "classifier.fit(X_train, y_train)"
      ],
      "execution_count": 15,
      "outputs": [
        {
          "output_type": "execute_result",
          "data": {
            "text/plain": [
              "LogisticRegression(C=1.0, class_weight=None, dual=False, fit_intercept=True,\n",
              "                   intercept_scaling=1, l1_ratio=None, max_iter=100,\n",
              "                   multi_class='auto', n_jobs=None, penalty='l2',\n",
              "                   random_state=1, solver='lbfgs', tol=0.0001, verbose=0,\n",
              "                   warm_start=False)"
            ]
          },
          "metadata": {
            "tags": []
          },
          "execution_count": 15
        }
      ]
    },
    {
      "cell_type": "markdown",
      "metadata": {
        "id": "5wiiMO264EyY"
      },
      "source": [
        "# Predict results"
      ]
    },
    {
      "cell_type": "code",
      "metadata": {
        "id": "GAKEN53t6l09"
      },
      "source": [
        "y_pred = classifier.predict(X_test)"
      ],
      "execution_count": 16,
      "outputs": []
    },
    {
      "cell_type": "markdown",
      "metadata": {
        "id": "6udpihBq4E1s"
      },
      "source": [
        "# Measure the accuracy using Confusion Matrix"
      ]
    },
    {
      "cell_type": "code",
      "metadata": {
        "colab": {
          "base_uri": "https://localhost:8080/"
        },
        "id": "UW_emaBB4ZFm",
        "outputId": "7925bf6b-9817-441c-a458-9f6bc3fc0be6"
      },
      "source": [
        "from sklearn.metrics import confusion_matrix, accuracy_score\n",
        "cm = confusion_matrix(y_test, y_pred)\n",
        "print(cm)\n",
        "accuracy_score(y_test, y_pred)"
      ],
      "execution_count": 17,
      "outputs": [
        {
          "output_type": "stream",
          "text": [
            "[[38  8]\n",
            " [ 3 65]]\n"
          ],
          "name": "stdout"
        },
        {
          "output_type": "execute_result",
          "data": {
            "text/plain": [
              "0.9035087719298246"
            ]
          },
          "metadata": {
            "tags": []
          },
          "execution_count": 17
        }
      ]
    },
    {
      "cell_type": "code",
      "metadata": {
        "id": "xrPQo2dW66fW"
      },
      "source": [
        ""
      ],
      "execution_count": null,
      "outputs": []
    }
  ]
}