{
  "nbformat": 4,
  "nbformat_minor": 0,
  "metadata": {
    "colab": {
      "name": "Support_Vector_Regression.ipynb",
      "provenance": [],
      "authorship_tag": "ABX9TyMJ3oF1AWMvL9ecCERePbW+",
      "include_colab_link": true
    },
    "kernelspec": {
      "name": "python3",
      "display_name": "Python 3"
    }
  },
  "cells": [
    {
      "cell_type": "markdown",
      "metadata": {
        "id": "view-in-github",
        "colab_type": "text"
      },
      "source": [
        "<a href=\"https://colab.research.google.com/github/vinodhmano/machinelearning/blob/master/Support_Vector_Regression.ipynb\" target=\"_parent\"><img src=\"https://colab.research.google.com/assets/colab-badge.svg\" alt=\"Open In Colab\"/></a>"
      ]
    },
    {
      "cell_type": "markdown",
      "metadata": {
        "id": "J1YMUQwQQj8C"
      },
      "source": [
        "# Import the Libraries"
      ]
    },
    {
      "cell_type": "code",
      "metadata": {
        "id": "vlfa4wv9NqXE"
      },
      "source": [
        "import numpy as np\n",
        "import pandas as pd\n",
        "import matplotlib.pyplot as plt"
      ],
      "execution_count": 1,
      "outputs": []
    },
    {
      "cell_type": "markdown",
      "metadata": {
        "id": "slNKp7HcQnLP"
      },
      "source": [
        "# Import the dataset"
      ]
    },
    {
      "cell_type": "code",
      "metadata": {
        "id": "Nm3TIvySQmeL"
      },
      "source": [
        "dataset = pd.read_csv('./Position_Salaries.csv')\n",
        "X = dataset.iloc[:, 1:-1].values\n",
        "y = dataset.iloc[:, -1].values"
      ],
      "execution_count": 3,
      "outputs": []
    },
    {
      "cell_type": "code",
      "metadata": {
        "id": "xbG6jVqWRq-Y",
        "outputId": "52f002b9-af3d-44ae-9856-a8c73a1cf5a1",
        "colab": {
          "base_uri": "https://localhost:8080/"
        }
      },
      "source": [
        "print(X)"
      ],
      "execution_count": 4,
      "outputs": [
        {
          "output_type": "stream",
          "text": [
            "[[ 1]\n",
            " [ 2]\n",
            " [ 3]\n",
            " [ 4]\n",
            " [ 5]\n",
            " [ 6]\n",
            " [ 7]\n",
            " [ 8]\n",
            " [ 9]\n",
            " [10]]\n"
          ],
          "name": "stdout"
        }
      ]
    },
    {
      "cell_type": "code",
      "metadata": {
        "id": "Z7Fi_HzVRu61",
        "outputId": "cae90e1a-76f2-4d46-9f06-f0159e0e40a8",
        "colab": {
          "base_uri": "https://localhost:8080/"
        }
      },
      "source": [
        "print(y)"
      ],
      "execution_count": 5,
      "outputs": [
        {
          "output_type": "stream",
          "text": [
            "[  45000   50000   60000   80000  110000  150000  200000  300000  500000\n",
            " 1000000]\n"
          ],
          "name": "stdout"
        }
      ]
    },
    {
      "cell_type": "markdown",
      "metadata": {
        "id": "RFl0SCU-QnPB"
      },
      "source": [
        "# Scale the features and dependent variable"
      ]
    },
    {
      "cell_type": "code",
      "metadata": {
        "id": "LrOkCFjpSF7o",
        "outputId": "61bd6f8c-b951-4549-a99a-e48e1b71dd9d",
        "colab": {
          "base_uri": "https://localhost:8080/"
        }
      },
      "source": [
        "y = y.reshape(len(y),1)\n",
        "print(y)"
      ],
      "execution_count": 6,
      "outputs": [
        {
          "output_type": "stream",
          "text": [
            "[[  45000]\n",
            " [  50000]\n",
            " [  60000]\n",
            " [  80000]\n",
            " [ 110000]\n",
            " [ 150000]\n",
            " [ 200000]\n",
            " [ 300000]\n",
            " [ 500000]\n",
            " [1000000]]\n"
          ],
          "name": "stdout"
        }
      ]
    },
    {
      "cell_type": "code",
      "metadata": {
        "id": "FF5fE4YqRyUq"
      },
      "source": [
        "from sklearn.preprocessing import StandardScaler\n",
        "scaler_X = StandardScaler()\n",
        "scaler_y = StandardScaler()\n",
        "X = scaler_X.fit_transform(X)\n",
        "y = scaler_y.fit_transform(y)"
      ],
      "execution_count": 7,
      "outputs": []
    },
    {
      "cell_type": "code",
      "metadata": {
        "id": "ccoSXbNwRy05",
        "outputId": "cabd7f0c-2ad6-4181-e49e-7ed0ac73c259",
        "colab": {
          "base_uri": "https://localhost:8080/"
        }
      },
      "source": [
        "print(X)"
      ],
      "execution_count": 8,
      "outputs": [
        {
          "output_type": "stream",
          "text": [
            "[[-1.5666989 ]\n",
            " [-1.21854359]\n",
            " [-0.87038828]\n",
            " [-0.52223297]\n",
            " [-0.17407766]\n",
            " [ 0.17407766]\n",
            " [ 0.52223297]\n",
            " [ 0.87038828]\n",
            " [ 1.21854359]\n",
            " [ 1.5666989 ]]\n"
          ],
          "name": "stdout"
        }
      ]
    },
    {
      "cell_type": "code",
      "metadata": {
        "id": "fZzdzUOjRy6C",
        "outputId": "b3c0d89c-08c6-4336-c7ce-391c82290c3d",
        "colab": {
          "base_uri": "https://localhost:8080/"
        }
      },
      "source": [
        "print(y)"
      ],
      "execution_count": 9,
      "outputs": [
        {
          "output_type": "stream",
          "text": [
            "[[-0.72004253]\n",
            " [-0.70243757]\n",
            " [-0.66722767]\n",
            " [-0.59680786]\n",
            " [-0.49117815]\n",
            " [-0.35033854]\n",
            " [-0.17428902]\n",
            " [ 0.17781001]\n",
            " [ 0.88200808]\n",
            " [ 2.64250325]]\n"
          ],
          "name": "stdout"
        }
      ]
    },
    {
      "cell_type": "markdown",
      "metadata": {
        "id": "hgyPLsrJQnbQ"
      },
      "source": [
        "# Create the SVR Model"
      ]
    },
    {
      "cell_type": "code",
      "metadata": {
        "id": "fztZTG1RShwc",
        "outputId": "2e2f354d-4036-40cf-b1d0-ca564fbc5a67",
        "colab": {
          "base_uri": "https://localhost:8080/"
        }
      },
      "source": [
        "from sklearn.svm import SVR\n",
        "regressor = SVR(kernel='rbf')\n",
        "regressor.fit(X,y)"
      ],
      "execution_count": 10,
      "outputs": [
        {
          "output_type": "stream",
          "text": [
            "/usr/local/lib/python3.6/dist-packages/sklearn/utils/validation.py:760: DataConversionWarning: A column-vector y was passed when a 1d array was expected. Please change the shape of y to (n_samples, ), for example using ravel().\n",
            "  y = column_or_1d(y, warn=True)\n"
          ],
          "name": "stderr"
        },
        {
          "output_type": "execute_result",
          "data": {
            "text/plain": [
              "SVR(C=1.0, cache_size=200, coef0=0.0, degree=3, epsilon=0.1, gamma='scale',\n",
              "    kernel='rbf', max_iter=-1, shrinking=True, tol=0.001, verbose=False)"
            ]
          },
          "metadata": {
            "tags": []
          },
          "execution_count": 10
        }
      ]
    },
    {
      "cell_type": "markdown",
      "metadata": {
        "id": "kKETT9S7QnT4"
      },
      "source": [
        "# Predict the results"
      ]
    },
    {
      "cell_type": "code",
      "metadata": {
        "id": "_zeVsAFGTELY",
        "outputId": "63994e50-d705-4bca-a66c-e1832c47b945",
        "colab": {
          "base_uri": "https://localhost:8080/"
        }
      },
      "source": [
        "scaler_y.inverse_transform(regressor.predict(scaler_X.transform([[6.5]])))"
      ],
      "execution_count": 11,
      "outputs": [
        {
          "output_type": "execute_result",
          "data": {
            "text/plain": [
              "array([170370.0204065])"
            ]
          },
          "metadata": {
            "tags": []
          },
          "execution_count": 11
        }
      ]
    },
    {
      "cell_type": "markdown",
      "metadata": {
        "id": "0Rt5KPONQnXs"
      },
      "source": [
        "# Visualise the prediction"
      ]
    },
    {
      "cell_type": "code",
      "metadata": {
        "id": "CONDI6wMTYjU",
        "outputId": "2cb49ee3-3e5e-493d-82b1-4be261909458",
        "colab": {
          "base_uri": "https://localhost:8080/",
          "height": 295
        }
      },
      "source": [
        "plt.scatter(scaler_X.inverse_transform(X), scaler_y.inverse_transform(y), color='red')\n",
        "plt.plot(scaler_X.inverse_transform(X),scaler_y.inverse_transform(regressor.predict(X)), color='blue')\n",
        "plt.title('Support Vector Regression')\n",
        "plt.xlabel('Level')\n",
        "plt.ylabel('Salary')\n",
        "plt.show()"
      ],
      "execution_count": 12,
      "outputs": [
        {
          "output_type": "display_data",
          "data": {
            "image/png": "[encoded data removed]",
            "text/plain": [
              "<Figure size 432x288 with 1 Axes>"
            ]
          },
          "metadata": {
            "tags": [],
            "needs_background": "light"
          }
        }
      ]
    }
  ]
}